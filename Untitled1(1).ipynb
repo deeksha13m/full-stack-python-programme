{
 "cells": [
  {
   "cell_type": "code",
   "execution_count": null,
   "id": "2cc2da84-12f8-4e79-984b-3bd636af59c7",
   "metadata": {},
   "outputs": [],
   "source": []
  },
  {
   "cell_type": "code",
   "execution_count": 1,
   "id": "a55bbc61-ff81-46f0-9cd4-2a04e593d329",
   "metadata": {},
   "outputs": [
    {
     "name": "stdout",
     "output_type": "stream",
     "text": [
      "Hello,Python Full Stack Students!\n"
     ]
    }
   ],
   "source": [
    "print(\"Hello,Python Full Stack Students!\")"
   ]
  },
  {
   "cell_type": "code",
   "execution_count": 2,
   "id": "214a5663-f473-4a34-8093-96ad7d743b4c",
   "metadata": {},
   "outputs": [
    {
     "name": "stdout",
     "output_type": "stream",
     "text": [
      "hey,I am DEEKSHA JADHAV form ACC\n"
     ]
    }
   ],
   "source": [
    "print(\"hey,I am DEEKSHA JADHAV form ACC\") "
   ]
  },
  {
   "cell_type": "code",
   "execution_count": 3,
   "id": "7c456d8f-3f22-4957-8dc8-896aebb46c08",
   "metadata": {},
   "outputs": [
    {
     "name": "stdout",
     "output_type": "stream",
     "text": [
      "I AM LEARNING PYTHON\n"
     ]
    }
   ],
   "source": [
    "print(\"I AM LEARNING PYTHON\")\n"
   ]
  },
  {
   "cell_type": "code",
   "execution_count": 8,
   "id": "cb6d0495-f2a0-4935-a174-967fad9515c1",
   "metadata": {},
   "outputs": [
    {
     "name": "stdout",
     "output_type": "stream",
     "text": [
      "Deeksha 18 8.5 True\n"
     ]
    }
   ],
   "source": [
    "name=\"Deeksha\"\n",
    "age=18\n",
    "gpa=8.5\n",
    "is_student=True\n",
    "print(name,age,gpa,is_student)"
   ]
  },
  {
   "cell_type": "code",
   "execution_count": 12,
   "id": "e9979c3d-89d0-4035-a1e8-28c8f83eded7",
   "metadata": {},
   "outputs": [
    {
     "name": "stdout",
     "output_type": "stream",
     "text": [
      "Kanishka 17 10 True\n"
     ]
    }
   ],
   "source": [
    "name=\"Kanishka\"\n",
    "age=17\n",
    "gpa=10\n",
    "is_student=True\n",
    "print(name,age,gpa,is_student)"
   ]
  },
  {
   "cell_type": "code",
   "execution_count": 15,
   "id": "49da7d76-5b3b-477a-bd68-c543669f74ac",
   "metadata": {},
   "outputs": [
    {
     "name": "stdout",
     "output_type": "stream",
     "text": [
      "<class 'int'> <class 'float'> <class 'str'> <class 'bool'>\n"
     ]
    }
   ],
   "source": [
    "X=10\n",
    "Y=3.14\n",
    "Z=\"Python\"\n",
    "flag=False\n",
    "print(type(X),type(Y),type(Z),type(flag))"
   ]
  },
  {
   "cell_type": "code",
   "execution_count": 17,
   "id": "b99d9fef-3938-4283-afa1-790ebcd2b596",
   "metadata": {},
   "outputs": [
    {
     "name": "stdout",
     "output_type": "stream",
     "text": [
      "deeksha avinash_college python\n"
     ]
    }
   ],
   "source": [
    "name=\"deeksha\"\n",
    "college=\"avinash_college\"\n",
    "favorite_programming_language=\"python\"\n",
    "print(name,college,favorite_programming_language)\n"
   ]
  },
  {
   "cell_type": "code",
   "execution_count": 23,
   "id": "5b6372ca-5f15-4caf-847d-f2dca843c93b",
   "metadata": {},
   "outputs": [
    {
     "name": "stdout",
     "output_type": "stream",
     "text": [
      "2007 2025 ('current_year', 'birth_year')\n"
     ]
    }
   ],
   "source": [
    "birth_year=2007\n",
    "current_year=2025\n",
    "age = \"current_year\",\"birth_year\"\n",
    "print(birth_year,current_year,age)"
   ]
  },
  {
   "cell_type": "code",
   "execution_count": 24,
   "id": "bfb28399-6f99-416b-8559-2c971b3c0a95",
   "metadata": {},
   "outputs": [
    {
     "name": "stdout",
     "output_type": "stream",
     "text": [
      "<class 'str'> <class 'str'> <class 'str'>\n"
     ]
    }
   ],
   "source": [
    "movie_name=\"kushi\"\n",
    "relese_year=2014\n",
    "rating=\"good\"\n",
    "x=\"movie_name\"\n",
    "y=\"relese_year\"\n",
    "z=\"rating\"\n",
    "print(type(x),type(y),type(z))\n"
   ]
  },
  {
   "cell_type": "code",
   "execution_count": 26,
   "id": "35a1bac1-ae86-42c7-b525-9355e2246197",
   "metadata": {},
   "outputs": [
    {
     "name": "stdout",
     "output_type": "stream",
     "text": [
      "Addition: 19\n",
      "Division: 3.75\n",
      "Floor Division: 3\n",
      "power 50625\n"
     ]
    }
   ],
   "source": [
    "a=15\n",
    "b=4\n",
    "print(\"Addition:\",a+b)\n",
    "print(\"Division:\",a/b)\n",
    "print(\"Floor Division:\",a//b)\n",
    "print(\"power\",a**b)"
   ]
  },
  {
   "cell_type": "code",
   "execution_count": 27,
   "id": "92d5622b-004a-41bc-9dbe-5d4287055147",
   "metadata": {},
   "outputs": [
    {
     "name": "stdout",
     "output_type": "stream",
     "text": [
      "False\n",
      "True\n",
      "True\n"
     ]
    }
   ],
   "source": [
    "a=10\n",
    "b=20\n",
    "print(a > b)    # False\n",
    "print(a == 10)  # True\n",
    "print((a < b) and (b == 20))  #True"
   ]
  },
  {
   "cell_type": "code",
   "execution_count": 1,
   "id": "d6142163-00c7-4438-93ab-9bf0d3243bde",
   "metadata": {},
   "outputs": [
    {
     "name": "stdout",
     "output_type": "stream",
     "text": [
      "['apple', 'BANANA', 'mango', 'orange']\n",
      "BANANA\n"
     ]
    }
   ],
   "source": [
    "fruits=[\"apple\",\"BANANA\",\"mango\"]\n",
    "fruits.append(\"orange\")\n",
    "print(fruits)     \n",
    "print(fruits[1])"
   ]
  },
  {
   "cell_type": "code",
   "execution_count": 3,
   "id": "bd8353c1-ba98-4138-909b-cd9236fc5bd8",
   "metadata": {},
   "outputs": [
    {
     "name": "stdout",
     "output_type": "stream",
     "text": [
      "['table', 'pen', 'cap', 'phone', 'cap']\n",
      "cap\n"
     ]
    }
   ],
   "source": [
    "things=[\"table\",\"pen\",\"cap\",\"phone\"]\n",
    "things.append(\"cap\")\n",
    "print(things)\n",
    "print(things[2])"
   ]
  },
  {
   "cell_type": "code",
   "execution_count": 6,
   "id": "2c6f2955-3f0a-4c61-8e5b-c35f3a284789",
   "metadata": {},
   "outputs": [
    {
     "name": "stdout",
     "output_type": "stream",
     "text": [
      "['apple', 'mango', 'orange']\n",
      "mango\n"
     ]
    }
   ],
   "source": [
    "fruits=[\"apple\",\"banana\",\"mango\"]\n",
    "fruits.append(\"orange\")\n",
    "fruits.remove(\"banana\")\n",
    "fruits.sort()\n",
    "print(fruits)\n",
    "print(fruits[1])"
   ]
  },
  {
   "cell_type": "code",
   "execution_count": 2,
   "id": "8c6439b6-5457-4b9a-bcdb-128fe2ba1cdf",
   "metadata": {},
   "outputs": [
    {
     "name": "stdout",
     "output_type": "stream",
     "text": [
      "red\n"
     ]
    }
   ],
   "source": [
    "colors=(\"red\",\"green\",\"blue\")\n",
    "print(colors[0])\n"
   ]
  },
  {
   "cell_type": "code",
   "execution_count": 4,
   "id": "9dbcbbf0-508b-4e30-9246-ba5c3b9e8018",
   "metadata": {},
   "outputs": [
    {
     "name": "stdout",
     "output_type": "stream",
     "text": [
      "{1, 2, 3, 4, 5}\n"
     ]
    }
   ],
   "source": [
    "numbers={1,2,3,3,4}\n",
    "numbers.add(5)\n",
    "print(numbers)"
   ]
  },
  {
   "cell_type": "code",
   "execution_count": 10,
   "id": "b5623248-49e8-429c-9e79-f89134d7883b",
   "metadata": {},
   "outputs": [
    {
     "name": "stdout",
     "output_type": "stream",
     "text": [
      "deeksha\n",
      "{'name': 'deeksha', 'age': 20, 'course': 'python full stack'}\n",
      "dict_keys(['name', 'age', 'course', 'college'])\n",
      "dict_values(['deeksha', 20, 'python full stack', 'ABC University'])\n"
     ]
    }
   ],
   "source": [
    "student={\n",
    "    \"name\":\"deeksha\",\n",
    "    \"age\":18,\n",
    "     \"course\":\"python full stack\"\n",
    "}\n",
    "print(student[\"name\"])\n",
    "student[\"age\"]=20\n",
    "print(student)\n",
    "student[\"college\"]=\"ABC University\"\n",
    "print(student.keys())\n",
    "print(student.values())\n"
   ]
  },
  {
   "cell_type": "code",
   "execution_count": 11,
   "id": "9ad31a9e-799a-4440-b768-1a38ea65d6a6",
   "metadata": {},
   "outputs": [
    {
     "name": "stdout",
     "output_type": "stream",
     "text": [
      "Grade: B\n"
     ]
    }
   ],
   "source": [
    "marks=75\n",
    "if marks >=90:\n",
    "    print(\"Grade: A\")\n",
    "elif marks >= 75:\n",
    "    print(\"Grade: B\")\n",
    "elif marks >=50: \n",
    "    print(\"Grade: C\")\n",
    "else:\n",
    "    print(\"Grade: Fail\")\n",
    "    "
   ]
  },
  {
   "cell_type": "code",
   "execution_count": 13,
   "id": "f7daf014-585b-46c7-a932-03163676a961",
   "metadata": {},
   "outputs": [
    {
     "name": "stdout",
     "output_type": "stream",
     "text": [
      "Number: 1\n",
      "Number: 2\n",
      "Number: 3\n",
      "Number: 4\n",
      "Number: 5\n",
      "Number: 6\n"
     ]
    }
   ],
   "source": [
    "\n",
    "for i in range(1, 7):\n",
    "    print(\"Number:\", i)"
   ]
  },
  {
   "cell_type": "code",
   "execution_count": 14,
   "id": "335dd349-ed32-4670-876d-8dd43811bd4d",
   "metadata": {},
   "outputs": [
    {
     "name": "stdout",
     "output_type": "stream",
     "text": [
      "count: 1\n",
      "count: 2\n",
      "count: 3\n",
      "count: 4\n",
      "count: 5\n"
     ]
    }
   ],
   "source": [
    "count = 1 \n",
    "while count <= 5:\n",
    "    print(\"count:\",count)\n",
    "    count += 1"
   ]
  },
  {
   "cell_type": "code",
   "execution_count": 18,
   "id": "5e0b90d5-5c19-42cf-b266-e79f52284174",
   "metadata": {},
   "outputs": [
    {
     "name": "stdout",
     "output_type": "stream",
     "text": [
      "1\n",
      "2\n",
      "3\n",
      "4\n"
     ]
    }
   ],
   "source": [
    "for i in range(1, 10):\n",
    "    if i == 5:\n",
    "      break\n",
    "    print(i)"
   ]
  },
  {
   "cell_type": "code",
   "execution_count": null,
   "id": "c19089a2-62a4-4554-a0bd-e647682016d7",
   "metadata": {},
   "outputs": [],
   "source": []
  }
 ],
 "metadata": {
  "kernelspec": {
   "display_name": "Python [conda env:base] *",
   "language": "python",
   "name": "conda-base-py"
  },
  "language_info": {
   "codemirror_mode": {
    "name": "ipython",
    "version": 3
   },
   "file_extension": ".py",
   "mimetype": "text/x-python",
   "name": "python",
   "nbconvert_exporter": "python",
   "pygments_lexer": "ipython3",
   "version": "3.13.5"
  }
 },
 "nbformat": 4,
 "nbformat_minor": 5
}
